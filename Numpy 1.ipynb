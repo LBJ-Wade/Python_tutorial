{
 "cells": [
  {
   "cell_type": "markdown",
   "metadata": {},
   "source": [
    "# Array manipulation and numpy\n",
    "Here we will review some of the most important functionality implemented in the ubiquitous `numpy` package. Together with `scipy`, it contains almost anything you may need for standard mathematical calculations.\n",
    "\n",
    "The first step is importing `numpy`:"
   ]
  },
  {
   "cell_type": "code",
   "execution_count": 1,
   "metadata": {},
   "outputs": [],
   "source": [
    "import numpy as np"
   ]
  },
  {
   "cell_type": "markdown",
   "metadata": {},
   "source": [
    "## Basic array manipulation\n",
    "\n",
    "At this point, we can start using `numpy` (invoking it as `np`). Let's use it simply to create an array containing the first 10 integer numbers starting from zero."
   ]
  },
  {
   "cell_type": "code",
   "execution_count": 2,
   "metadata": {},
   "outputs": [
    {
     "name": "stdout",
     "output_type": "stream",
     "text": [
      "[0 1 2 3 4 5 6 7 8 9]\n",
      "<class 'numpy.ndarray'>\n"
     ]
    }
   ],
   "source": [
    "a10 = np.arange(10)\n",
    "print(a10)\n",
    "print(type(a10))"
   ]
  },
  {
   "cell_type": "markdown",
   "metadata": {},
   "source": [
    "As you can see, `a10` has type `numpy.ndarray`. Numpy arrays are like standard python lists, except they have a lot of \"syntactic sugar\" (i.e. they can do a lot of cool stuff).\n",
    "\n",
    "For instance, you can very easily read off slices of them, or skip every second element of them, or loop over them backwards. You can also multiply them by scalars."
   ]
  },
  {
   "cell_type": "code",
   "execution_count": 3,
   "metadata": {},
   "outputs": [
    {
     "name": "stdout",
     "output_type": "stream",
     "text": [
      "0\n",
      "[0 1 2]\n",
      "[0 1 2]\n",
      "[2 3 4 5 6 7]\n",
      "[0 2 4 6 8]\n",
      "[1 3 5 7 9]\n",
      "[9 8 7 6 5 4 3 2 1 0]\n",
      "[ 0  2  4  6  8 10 12 14 16 18]\n"
     ]
    }
   ],
   "source": [
    "# Evaluate one element\n",
    "print(a10[0])\n",
    "# Pick a slice of the array\n",
    "print(a10[0:3])\n",
    "print(a10[:3])\n",
    "# A slice that starts at 2\n",
    "print(a10[2:8])\n",
    "# Print every second element\n",
    "print(a10[::2])\n",
    "# ... but starting from 1\n",
    "print(a10[1::2])\n",
    "# Loop backwards\n",
    "print(a10[::-1])\n",
    "# Multiply by 2\n",
    "print(a10 * 2)\n"
   ]
  },
  {
   "cell_type": "markdown",
   "metadata": {},
   "source": [
    "OK, how about 2D arrays? You can create any $N$-dimensional array you want. Think of 2D arrays as arrays of 1D arrays. And in general $N$D arrays as arrays of $(N-1)$D arrays.\n",
    "\n",
    "Let's start by creating a $10\\times10$ array, and fill it up with random numbers between 0 and 1."
   ]
  },
  {
   "cell_type": "code",
   "execution_count": 4,
   "metadata": {},
   "outputs": [
    {
     "name": "stdout",
     "output_type": "stream",
     "text": [
      "[[0.95189802 0.88105452 0.23218052 0.33542918 0.7294106  0.58041357\n",
      "  0.74139435 0.07141894 0.27588504 0.06078914]\n",
      " [0.75500414 0.91751562 0.26612193 0.69773208 0.32175783 0.34967447\n",
      "  0.61154529 0.04687343 0.27262751 0.2023715 ]\n",
      " [0.08182294 0.34252223 0.73499955 0.32833276 0.65741448 0.61185424\n",
      "  0.99258903 0.75264629 0.80365824 0.22062322]\n",
      " [0.19097224 0.27816386 0.0388189  0.3903982  0.38775102 0.03288985\n",
      "  0.54954788 0.35031867 0.79389077 0.0993419 ]\n",
      " [0.09854105 0.81949975 0.21586258 0.02234058 0.90717416 0.58587944\n",
      "  0.67913937 0.07136099 0.2253556  0.27483796]\n",
      " [0.5020088  0.98197289 0.93618064 0.19938165 0.12039127 0.89944611\n",
      "  0.44172014 0.60557592 0.1941534  0.56097477]\n",
      " [0.46277771 0.47615913 0.50195099 0.93971149 0.08407883 0.12541045\n",
      "  0.37514585 0.90639267 0.18328033 0.64829904]\n",
      " [0.87946781 0.89192412 0.02551642 0.05541851 0.57935726 0.64624185\n",
      "  0.02929233 0.31317039 0.03699561 0.66326068]\n",
      " [0.84334443 0.65819479 0.86967098 0.6526604  0.19336483 0.63108585\n",
      "  0.64151106 0.42179685 0.85044343 0.91395376]\n",
      " [0.22083819 0.68562484 0.91963192 0.90632097 0.34257814 0.10068929\n",
      "  0.35579743 0.22026059 0.90608826 0.46582699]]\n"
     ]
    }
   ],
   "source": [
    "r2d = np.random.random([10, 10])\n",
    "print(r2d)"
   ]
  },
  {
   "cell_type": "markdown",
   "metadata": {},
   "source": [
    "You can use the same tricks above to select parts of $N$D arrays:"
   ]
  },
  {
   "cell_type": "code",
   "execution_count": 5,
   "metadata": {},
   "outputs": [
    {
     "name": "stdout",
     "output_type": "stream",
     "text": [
      "[0.75500414 0.91751562 0.26612193 0.69773208 0.32175783 0.34967447\n",
      " 0.61154529 0.04687343 0.27262751 0.2023715 ]\n",
      "0.26612193411831486\n",
      "[[0.95189802 0.88105452]\n",
      " [0.75500414 0.91751562]]\n"
     ]
    }
   ],
   "source": [
    "# Select the second row (remember, python arrays start at zero)\n",
    "print(r2d[1])\n",
    "# Select the third element in the second row.\n",
    "print(r2d[1, 2])\n",
    "# Select the first 2x2 box\n",
    "print(r2d[:2][:,:2])"
   ]
  },
  {
   "cell_type": "markdown",
   "metadata": {},
   "source": [
    "Since looking at a $10\\times10$ array can give you a headache easily, let's plot it instead:"
   ]
  },
  {
   "cell_type": "code",
   "execution_count": 7,
   "metadata": {},
   "outputs": [
    {
     "data": {
      "image/png": "[encoded data removed]",
      "text/plain": [
       "<Figure size 432x288 with 2 Axes>"
      ]
     },
     "metadata": {},
     "output_type": "display_data"
    }
   ],
   "source": [
    "import matplotlib.pyplot as plt\n",
    "plt.imshow(r2d)\n",
    "plt.colorbar()\n",
    "plt.show()"
   ]
  },
  {
   "cell_type": "markdown",
   "metadata": {},
   "source": [
    "(you'll notice we've imported a new module `matplotlib.pyplot`. This is an awesome library for making figures that we'll make extensive use of here.)"
   ]
  },
  {
   "cell_type": "code",
   "execution_count": null,
   "metadata": {},
   "outputs": [],
   "source": []
  }
 ],
 "metadata": {
  "kernelspec": {
   "display_name": "Python 3",
   "language": "python",
   "name": "python3"
  },
  "language_info": {
   "codemirror_mode": {
    "name": "ipython",
    "version": 3
   },
   "file_extension": ".py",
   "mimetype": "text/x-python",
   "name": "python",
   "nbconvert_exporter": "python",
   "pygments_lexer": "ipython3",
   "version": "3.6.8"
  }
 },
 "nbformat": 4,
 "nbformat_minor": 2
}
