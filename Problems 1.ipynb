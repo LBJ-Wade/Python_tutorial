{
 "cells": [
  {
   "cell_type": "markdown",
   "metadata": {},
   "source": [
    "# Problem set 1"
   ]
  },
  {
   "cell_type": "markdown",
   "metadata": {},
   "source": [
    "## Problem 1\n",
    "Let us consider the matrix ${\\bf M}$ defined in general in $N$ dimensions as:\n",
    "\\begin{equation}\n",
    "M_{ij} = \\left\\{\n",
    "\\begin{array}{ll}\n",
    "  A & {\\rm if}\\,\\,i=j \\\\\n",
    "  B & {\\rm if}\\,\\,i\\neq j\n",
    "\\end{array}\n",
    "\\right.\n",
    "\\end{equation}\n",
    "\n",
    "Guess an expression for the eigenvalues and eigenvectors of ${\\bf M}$ for arbitrary $N$."
   ]
  },
  {
   "cell_type": "markdown",
   "metadata": {},
   "source": [
    "## Problem 2\n",
    "For a cloud of $N$ particles in $D$ dimensions with positions $\\{{\\bf x}^{(n)},\\,\\,n\\in[1,N]\\}$ and equal masses $m^{(n)}$, we define the center of mass $\\bar{\\bf x}$ and its inertia tensor as:\n",
    "\\begin{align}\n",
    "&\\bar{\\bf x} = \\frac{1}{M}\\sum_{n=1}^N m_n {\\bf x}^n\\\\\n",
    "&I_{ij} = \\frac{1}{M}\\sum_{n=1}^N m^{(n)} (x_i^{(n)}-\\bar{x}_i)(x_j^{(n)}-\\bar{x}_j)\n",
    "\\end{align}\n",
    "where $M=\\sum_{n=1}^Nm_n$.\n",
    "\n",
    "1. Generate a cloud of $N=1000$ randomly positioned particles in a square of side $L=1$ in 2 dimensions. All particles will have the same mass $m=1/N$ for a total mass $M=1$.\n",
    "2. Compute the $\\bar{\\bf x}$ and ${\\bf I}$ for the cloud above.\n",
    "3. Repeat the exercise for a cloud of random particles in a sphere of radius 1 in 3 dimensions.\n",
    "4. Repeat the exercise for an ellipsoid with axes $a=1$, $b=3/4$ and $c=4/3$.\n",
    "5. Do the results of 2, 3 and 4 agree with what you would have expected?"
   ]
  },
  {
   "cell_type": "markdown",
   "metadata": {},
   "source": [
    "## Problem 3\n",
    "Let's play around with Markov chains. Markov chains are sequences of numbers $\\{a_n,\\,n\\in[1,N]\\}$ where the value of the $n$-th element depends on the values of the preceding ones. For simplicity, we'll make $a_n$ depend only on $a_{n-1}$.\n",
    "\n",
    "1. Write a function that generates a Markov chain of length $N$ defined as follows:\n",
    "\\begin{equation}\n",
    "a_n = a_{n-1} + r_G,\n",
    "\\end{equation}\n",
    "where $r_G$ is a random number drawn from a Gaussian distribution with zero mean and standard deviation $\\sigma=0.01$.\n",
    "2. Generate 3 chains with $N=1000$ and plot them.\n",
    "3. By generating many chains, compute the correlation function, defined as:\n",
    "\\begin{equation}\n",
    "\\xi(|n-m|) = \\langle a_n a_m\\rangle,\n",
    "\\end{equation}\n",
    "where the angle brackets $\\langle ...\\rangle$ denote averaging over many chains and over all pairs $n$ and $m$ with the same \"distance\" $d=|n-m|$."
   ]
  },
  {
   "cell_type": "code",
   "execution_count": null,
   "metadata": {},
   "outputs": [],
   "source": []
  }
 ],
 "metadata": {
  "kernelspec": {
   "display_name": "Python 3",
   "language": "python",
   "name": "python3"
  },
  "language_info": {
   "codemirror_mode": {
    "name": "ipython",
    "version": 3
   },
   "file_extension": ".py",
   "mimetype": "text/x-python",
   "name": "python",
   "nbconvert_exporter": "python",
   "pygments_lexer": "ipython3",
   "version": "3.6.8"
  }
 },
 "nbformat": 4,
 "nbformat_minor": 2
}
