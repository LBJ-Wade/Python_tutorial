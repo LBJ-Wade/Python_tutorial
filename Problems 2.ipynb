{
 "cells": [
  {
   "cell_type": "markdown",
   "metadata": {},
   "source": [
    "\n",
    "# Problem set 2"
   ]
  },
  {
   "cell_type": "markdown",
   "metadata": {},
   "source": [
    "## Problem 1\n",
    "Consider a pendulum of length $l=1$ in a gravitational field with $g=1$. Let $\\theta$ be the angle with respect to the vertical direction.\n",
    "\n",
    "- Assuming an initial condition $\\theta(t=0)=\\theta_0$ and $\\dot{\\theta}(t=0)=0$, solve the equation of motion without approximations in the interval $t\\in[0,4\\pi]$ for different values of the initial condition in the range $\\theta_0\\in[0,\\pi]$.\n",
    "\n",
    "- For each of those values, compare the solution with the solution you'd find in the usual approximation $\\theta\\ll1$. Plot also the trajectory of the pendulum in phase space (i.e. in the plane $(\\theta,\\dot{\\theta})$).\n",
    "\n",
    "**Hints**:\n",
    "- The equation of motion in this case is:\n",
    "\\begin{equation}\n",
    "\\ddot{\\theta}+\\sin\\theta=0\n",
    "\\end{equation}\n",
    "- Look up the function `scipy.integrate.solve_ivp`. Note that you'll have to rephrase the second-order equation above as a set of 2 linear first-order equations of the form $\\dot{\\bf x}={\\bf f}({\\bf x},t)$."
   ]
  },
  {
   "cell_type": "markdown",
   "metadata": {},
   "source": [
    "## Problem 2\n",
    "In tutorials, we've seen an equation one can use to find the trajectory $r(\\varphi)$ of a given object under a central force:\n",
    "\\begin{equation}\n",
    "  F(1/u) + \\frac{J^2u^3}{m} = - \\frac{J^2u^2}{m}\\frac{d^2u}{d\\varphi^2},\n",
    "\\end{equation}\n",
    "where $u=1/r$, $F(r)$ is the modulus of the central force, $J$ is the constant angular momentum of the moving object, and $\\varphi$ is the azimuth angle.\n",
    "\n",
    "1. Solve this equation numerically to find the trajectory of Mercury, using its perihelium as an initial condition. Plot the trajectory in the $(x,y)$ plane in the interval $\\varphi\\in[0,20\\pi]$. You'll need the following numbers:\n",
    " - Perihelion distance: $4.6\\times10^7\\,\\,{\\rm km}$.\n",
    " - Aphelion distance: $7.0\\times10^7\\,\\,{\\rm km}$.\n",
    " - Mercury's mass: $3.3\\times10^{23}\\,\\,{\\rm kg}$.\n",
    " - Sun's mass: $2\\times10^{30}\\,{\\rm kg}$.\n",
    " - Gravitational constant: $G=6.67\\times10^{-11}\\,{\\rm m^3\\,s^{-2}\\,kg^{-1}}$\n",
    "\n",
    "2. Calculate the total area swept by Mercury's trajectory as a function of $\\varphi$. Does it match the number you would expect?\n",
    "\n",
    "3. Einstein's theory of relativity introduces one extra term on $F(r)$, so that the effective force is (note: put in the missing factors of $c$!):\n",
    "\\begin{equation}\n",
    "F(r)=-\\frac{GMm}{r^2}\\left(1+\\frac{3J^2}{m^2r^2}\\right)\n",
    "\\end{equation}\n",
    "Plot Mercury's trajectory again with this addictional force.\n",
    "\n",
    "4. Relativistic effects are very small, mostly because $c$ is very large. To see them clearly, let's make $c$ 1000 times smaller, and plot the previous trajectory again.\n",
    "\n",
    "\n",
    "\n",
    "**Hints**\n",
    "- Note that all the numbers above are pretty large. Change the units of the variable $u$ so it takes values of order $\\mathcal{O}(1)$.\n",
    "- To solve part 2, look at other functions within the `scipy.integrate` module that may help you do this."
   ]
  },
  {
   "cell_type": "markdown",
   "metadata": {},
   "source": [
    "## Problem 3\n",
    "Consider a system of two pendula, where the second pendulum, of the same mass and length, is simply attached to the end of the first pendulum considered in Problem 1. Label the angles of both pendula with respect to the vertical $\\theta_1$ and $\\theta_2$.\n",
    "\n",
    "The equations of motion for this system are:\n",
    "\\begin{align}\n",
    "&\\ddot{\\theta}_1=\\frac{-2\\sin\\theta_1+\\sin\\theta_2\\cos(\\theta_1+\\theta_2)+\\dot{\\theta}_2^2\\sin(\\theta_1+\\theta_2)-\\dot{\\theta}_1^2\\sin(\\theta_1+\\theta_2)\\cos(\\theta_1+\\theta_2)}{1+\\sin^2(\\theta_1+\\theta_2)},\\\\\n",
    "&\\ddot{\\theta}_2=\\frac{-2\\sin\\theta_2+2\\sin\\theta_1\\cos(\\theta_1+\\theta_2)+2\\dot{\\theta}_1^2\\sin(\\theta_1+\\theta_2)-\\dot{\\theta}_2^2\\sin(\\theta_1+\\theta_2)\\cos(\\theta_1+\\theta_2)}{1+\\sin^2(\\theta_1+\\theta_2)}.\n",
    "\\end{align}\n",
    "\n",
    "- Assuming an initial condition $\\theta_1(t=0)=0$, $\\theta_2(t=0)=\\theta_0$ and $\\dot{\\theta}_i(t=0)=0$, solve the equation of motion without approximations in the interval $t\\in[0,10\\pi]$ for $\\theta_0=\\pi/10$, $\\theta_0=\\pi/4$, $\\theta_0=\\pi/2$ and $\\theta_0=9\\pi/10$.\n",
    "\n",
    "- Use the solution from the previous part to plot the total energy of the system as a function of time for the same initial conditions."
   ]
  },
  {
   "cell_type": "code",
   "execution_count": null,
   "metadata": {},
   "outputs": [],
   "source": []
  }
 ],
 "metadata": {
  "kernelspec": {
   "display_name": "Python 3",
   "language": "python",
   "name": "python3"
  },
  "language_info": {
   "codemirror_mode": {
    "name": "ipython",
    "version": 3
   },
   "file_extension": ".py",
   "mimetype": "text/x-python",
   "name": "python",
   "nbconvert_exporter": "python",
   "pygments_lexer": "ipython3",
   "version": "3.6.8"
  }
 },
 "nbformat": 4,
 "nbformat_minor": 2
}
